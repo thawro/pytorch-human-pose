{
 "cells": [
  {
   "cell_type": "code",
   "execution_count": 7,
   "id": "1bef6fd8-36d9-4e86-a782-a49b4475a862",
   "metadata": {
    "tags": []
   },
   "outputs": [],
   "source": [
    "import yaml\n",
    "import matplotlib.pyplot as plt\n",
    "from pycocotools.coco import COCO\n",
    "from pycocotools.cocoeval import COCOeval\n",
    "import numpy as np\n",
    "import skimage.io as io\n",
    "import pylab\n",
    "\n",
    "pylab.rcParams[\"figure.figsize\"] = (10.0, 8.0)"
   ]
  },
  {
   "cell_type": "code",
   "execution_count": 9,
   "id": "eecb0ec3-fc37-442e-8724-f9f2e56c920f",
   "metadata": {
    "tags": []
   },
   "outputs": [
    {
     "name": "stdout",
     "output_type": "stream",
     "text": [
      "Running demo for *keypoints* results.\n"
     ]
    }
   ],
   "source": [
    "annType = [\"segm\", \"bbox\", \"keypoints\"]\n",
    "annType = annType[2]  # specify type here\n",
    "prefix = \"person_keypoints\" if annType == \"keypoints\" else \"instances\"\n",
    "print(\"Running demo for *%s* results.\" % (annType))"
   ]
  },
  {
   "cell_type": "code",
   "execution_count": 3,
   "id": "4555fb30-684b-4277-b987-82d573dfd8a1",
   "metadata": {
    "tags": []
   },
   "outputs": [],
   "source": [
    "def load_yaml(path: str) -> dict:\n",
    "    \"\"\"Load yaml file to dict\"\"\"\n",
    "    with open(path, \"r\") as file:\n",
    "        yaml_dct = yaml.safe_load(file)\n",
    "    return yaml_dct"
   ]
  },
  {
   "cell_type": "code",
   "execution_count": 36,
   "id": "37491632-3512-4e50-8c30-009685daef3c",
   "metadata": {
    "tags": []
   },
   "outputs": [
    {
     "name": "stdout",
     "output_type": "stream",
     "text": [
      "loading annotations into memory...\n",
      "Done (t=0.16s)\n",
      "creating index...\n",
      "index created!\n"
     ]
    }
   ],
   "source": [
    "cocoGt = COCO(\"person_keypoints_val2017.json\")"
   ]
  },
  {
   "cell_type": "code",
   "execution_count": 56,
   "id": "7d8231d8-6442-4075-8b8a-83c1890e9b5c",
   "metadata": {},
   "outputs": [
    {
     "name": "stdout",
     "output_type": "stream",
     "text": [
      "Loading and preparing results...\n",
      "DONE (t=0.00s)\n",
      "creating index...\n",
      "index created!\n"
     ]
    }
   ],
   "source": [
    "cocoDt = cocoGt.loadRes(\"results.json\")"
   ]
  },
  {
   "cell_type": "code",
   "execution_count": 57,
   "id": "aa86dc7d-b63d-443c-854e-d90c93902daf",
   "metadata": {
    "tags": []
   },
   "outputs": [],
   "source": [
    "imgIds = sorted(cocoDt.getImgIds())\n",
    "imgIds = imgIds[0:100]\n",
    "imgId = imgIds[np.random.randint(100)]"
   ]
  },
  {
   "cell_type": "code",
   "execution_count": 63,
   "id": "df28c424-2308-473b-8dba-87669413a413",
   "metadata": {
    "tags": []
   },
   "outputs": [],
   "source": [
    "img_ids = [ann[\"image_id\"] for i, ann in cocoDt.anns.items()]"
   ]
  },
  {
   "cell_type": "code",
   "execution_count": 64,
   "id": "771c193d-3997-403c-926a-e303ac22c7da",
   "metadata": {
    "tags": []
   },
   "outputs": [
    {
     "name": "stdout",
     "output_type": "stream",
     "text": [
      "Running per image evaluation...\n",
      "Evaluate annotation type *keypoints*\n",
      "DONE (t=0.00s).\n",
      "Accumulating evaluation results...\n",
      "DONE (t=0.00s).\n",
      " Average Precision  (AP) @[ IoU=0.50:0.95 | area=   all | maxDets= 20 ] = 1.000\n",
      " Average Precision  (AP) @[ IoU=0.50      | area=   all | maxDets= 20 ] = 1.000\n",
      " Average Precision  (AP) @[ IoU=0.75      | area=   all | maxDets= 20 ] = 1.000\n",
      " Average Precision  (AP) @[ IoU=0.50:0.95 | area=medium | maxDets= 20 ] = 1.000\n",
      " Average Precision  (AP) @[ IoU=0.50:0.95 | area= large | maxDets= 20 ] = 1.000\n",
      " Average Recall     (AR) @[ IoU=0.50:0.95 | area=   all | maxDets= 20 ] = 1.000\n",
      " Average Recall     (AR) @[ IoU=0.50      | area=   all | maxDets= 20 ] = 1.000\n",
      " Average Recall     (AR) @[ IoU=0.75      | area=   all | maxDets= 20 ] = 1.000\n",
      " Average Recall     (AR) @[ IoU=0.50:0.95 | area=medium | maxDets= 20 ] = 1.000\n",
      " Average Recall     (AR) @[ IoU=0.50:0.95 | area= large | maxDets= 20 ] = 1.000\n"
     ]
    }
   ],
   "source": [
    "cocoEval = COCOeval(cocoGt, cocoDt, annType)\n",
    "cocoEval.params.imgIds = img_ids\n",
    "cocoEval.evaluate()\n",
    "cocoEval.accumulate()\n",
    "cocoEval.summarize()"
   ]
  },
  {
   "cell_type": "code",
   "execution_count": 65,
   "id": "d4722c6b-d850-498b-bc14-316639f17a53",
   "metadata": {
    "tags": []
   },
   "outputs": [
    {
     "data": {
      "text/plain": [
       "array([1., 1., 1., 1., 1., 1., 1., 1., 1., 1.])"
      ]
     },
     "execution_count": 65,
     "metadata": {},
     "output_type": "execute_result"
    }
   ],
   "source": [
    "cocoEval.stats"
   ]
  },
  {
   "cell_type": "code",
   "execution_count": 50,
   "id": "34d9055b-adf8-45da-9f8b-745dfa9a6057",
   "metadata": {
    "tags": []
   },
   "outputs": [
    {
     "ename": "KeyError",
     "evalue": "1",
     "output_type": "error",
     "traceback": [
      "\u001b[0;31m---------------------------------------------------------------------------\u001b[0m",
      "\u001b[0;31mKeyError\u001b[0m                                  Traceback (most recent call last)",
      "Cell \u001b[0;32mIn[50], line 4\u001b[0m\n\u001b[1;32m      2\u001b[0m plt\u001b[38;5;241m.\u001b[39mimshow(np\u001b[38;5;241m.\u001b[39mzeros((\u001b[38;5;241m500\u001b[39m, \u001b[38;5;241m500\u001b[39m, \u001b[38;5;241m3\u001b[39m)))\n\u001b[1;32m      3\u001b[0m cocoDt\u001b[38;5;241m.\u001b[39mshowAnns([cocoDt\u001b[38;5;241m.\u001b[39manns[\u001b[38;5;241m1\u001b[39m]])\n\u001b[0;32m----> 4\u001b[0m cocoGt\u001b[38;5;241m.\u001b[39mshowAnns([\u001b[43mcocoGt\u001b[49m\u001b[38;5;241;43m.\u001b[39;49m\u001b[43manns\u001b[49m\u001b[43m[\u001b[49m\u001b[38;5;241;43m1\u001b[39;49m\u001b[43m]\u001b[49m])\n",
      "\u001b[0;31mKeyError\u001b[0m: 1"
     ]
    },
    {
     "data": {
      "image/png": "[encoded data removed]",
      "text/plain": [
       "<Figure size 1000x800 with 1 Axes>"
      ]
     },
     "metadata": {},
     "output_type": "display_data"
    }
   ],
   "source": [
    "plt.figure()\n",
    "plt.imshow(np.zeros((500, 500, 3)))\n",
    "cocoDt.showAnns([cocoDt.anns[1]])\n",
    "cocoGt.showAnns([cocoGt.anns[1]])"
   ]
  },
  {
   "cell_type": "code",
   "execution_count": null,
   "id": "48091c48-ecfe-4aaf-a9af-c1467d4953ef",
   "metadata": {},
   "outputs": [],
   "source": []
  },
  {
   "cell_type": "code",
   "execution_count": null,
   "id": "5a5faea1-c988-493b-a945-a25427cb1b21",
   "metadata": {},
   "outputs": [],
   "source": []
  },
  {
   "cell_type": "code",
   "execution_count": 66,
   "id": "5388ae1e-10a1-4ae0-af38-9ba9832a6bbf",
   "metadata": {
    "tags": []
   },
   "outputs": [],
   "source": []
  },
  {
   "cell_type": "code",
   "execution_count": 67,
   "id": "0932d913-badd-4599-aab3-97d6878666ba",
   "metadata": {
    "tags": []
   },
   "outputs": [],
   "source": []
  },
  {
   "cell_type": "code",
   "execution_count": null,
   "id": "27c7072c-c769-48de-926a-7840d95c2f70",
   "metadata": {
    "tags": []
   },
   "outputs": [
    {
     "ename": "",
     "evalue": "",
     "output_type": "error",
     "traceback": [
      "\u001b[1;31mRunning cells with 'geda-HzIBTnWD-py3.10' requires the ipykernel package.\n",
      "\u001b[1;31mRun the following command to install 'ipykernel' into the Python environment. \n",
      "\u001b[1;31mCommand: '/home/thawro/.cache/pypoetry/virtualenvs/geda-HzIBTnWD-py3.10/bin/python -m pip install ipykernel -U --force-reinstall'"
     ]
    }
   ],
   "source": [
    "import numpy as np\n",
    "import cv2"
   ]
  },
  {
   "cell_type": "code",
   "execution_count": 90,
   "id": "f1149fe3-b3b6-4308-8616-f3b1e0071a1c",
   "metadata": {
    "tags": []
   },
   "outputs": [],
   "source": [
    "paths = [[(0, 0), (1, 1), (1, 0)], [(5, 4), (2, 3), (3, 7), (8, 9)]]\n",
    "area = sum(cv2.contourArea(np.array(path)) for path in paths)"
   ]
  },
  {
   "cell_type": "code",
   "execution_count": 141,
   "id": "b8423547-5a4c-449f-873a-6bf6ad336d67",
   "metadata": {
    "tags": []
   },
   "outputs": [],
   "source": [
    "target_kpts = np.random.randint(0, 100, (4, 17, 3))\n",
    "pred_kpts = np.random.randint(0, 100, (20, 17, 3))\n",
    "pred_kpts[5] = target_kpts[0]\n",
    "pred_kpts[7] = target_kpts[1]\n",
    "pred_kpts[9] = target_kpts[2]\n",
    "pred_kpts[11] = target_kpts[3]"
   ]
  },
  {
   "cell_type": "code",
   "execution_count": 148,
   "id": "41cc437d-ebb8-4e60-aa87-eecbaa5c5bdc",
   "metadata": {
    "tags": []
   },
   "outputs": [],
   "source": [
    "sigmas = [26, 25, 25, 35, 35, 79, 79, 72, 72, 62, 62, 107, 107, 87, 87, 89, 89]\n",
    "sigmas = np.array(sigmas) / 1000\n",
    "vars = (sigmas * 2) ** 2\n",
    "\n",
    "\n",
    "def calculate_oks(pred_kpts, target_kpts, obj_polygons):\n",
    "    # pred_kpts shape: [num_kpts, 2]\n",
    "    # target_kpts shape: [num_kpts, 2]\n",
    "    # 2 for: x, y\n",
    "    num_kpts = len(target_kpts)\n",
    "\n",
    "    kpts_vis = np.array([x > 0 or y > 0 for x, y in target_kpts[..., :2]])\n",
    "\n",
    "    area = sum(cv2.contourArea(np.array(poly)) for poly in obj_polygons)\n",
    "\n",
    "    dist = ((pred_kpts - target_kpts) ** 2).sum(-1)\n",
    "\n",
    "    e = dist / vars / (area + np.spacing(1)) / 2\n",
    "    e = e[kpts_vis]\n",
    "    return np.sum(np.exp(-e)) / num_kpts\n",
    "\n",
    "\n",
    "def match_predictions_to_targets(pred_kpts, target_kpts, objects_polygons):\n",
    "    # pred_kpts shape: [num_obj_pred, num_kpts, 3]\n",
    "    # 3 for: x, y, score\n",
    "    # target_kpts shape: [num_obj_target, num_kpts, 2]\n",
    "    # 2 for: x, y\n",
    "    # objects_polygons is list of ground truth polygons (for area calculation)\n",
    "    num_target_obj, num_kpts = target_kpts.shape[:2]\n",
    "    pred_obj_scores = pred_kpts[..., 2].mean(-1)\n",
    "    sorted_idxs = np.argsort(pred_obj_scores, kind=\"mergesort\")\n",
    "    target_matches_idx = [-1 for _ in range(num_target_obj)]\n",
    "    target_matches_oks = [0 for _ in range(num_target_obj)]\n",
    "    matched_idxs = []\n",
    "    for pred_idx in sorted_idxs:\n",
    "        p_kpts = pred_kpts[pred_idx]\n",
    "        for target_idx, t_kpts in enumerate(target_kpts):\n",
    "            if target_idx in matched_idxs:\n",
    "                continue\n",
    "            obj_polygons = objects_polygons[target_idx]\n",
    "            obj_oks = calculate_oks(p_kpts[..., :2], t_kpts[..., :2], obj_polygons)\n",
    "            if obj_oks > target_matches_oks[target_idx]:\n",
    "                target_matches_oks[target_idx] = obj_oks\n",
    "                print(\"HE\", pred_idx, target_idx)\n",
    "                target_matches_idx[target_idx] = pred_idx\n",
    "                matched_idxs.append(target_idx)\n",
    "    return target_matches_idx, target_matches_oks"
   ]
  },
  {
   "cell_type": "code",
   "execution_count": 149,
   "id": "26a9a555-1fbc-4cc2-a18c-d2e4f2ce9927",
   "metadata": {
    "tags": []
   },
   "outputs": [],
   "source": [
    "pred_obj_scores = pred_kpts[..., 2].mean(-1)\n",
    "sorted_idxs = np.argsort(pred_obj_scores, kind=\"mergesort\")\n",
    "obj_polygons = [[(10, 15), (20, 25), (1, 18)]]"
   ]
  },
  {
   "cell_type": "code",
   "execution_count": 150,
   "id": "c15a0d31-ab86-4118-a282-fd17bbb1b4b1",
   "metadata": {
    "tags": []
   },
   "outputs": [
    {
     "name": "stdout",
     "output_type": "stream",
     "text": [
      "HE 0 0\n",
      "HE 0 1\n",
      "HE 0 2\n",
      "HE 0 3\n",
      "HE 1 0\n",
      "HE 1 2\n",
      "HE 1 3\n",
      "HE 2 2\n",
      "HE 4 0\n",
      "HE 4 2\n",
      "HE 5 0\n",
      "HE 6 3\n",
      "HE 7 1\n",
      "HE 9 2\n",
      "HE 9 3\n",
      "HE 11 3\n"
     ]
    },
    {
     "data": {
      "text/plain": [
       "([5, 7, 9, 11], [1.0, 1.0, 1.0, 1.0])"
      ]
     },
     "execution_count": 150,
     "metadata": {},
     "output_type": "execute_result"
    }
   ],
   "source": [
    "match_predictions_to_targets(pred_kpts, target_kpts)"
   ]
  },
  {
   "cell_type": "code",
   "execution_count": 151,
   "id": "f9397293-c63f-4dc8-a661-857b298d12c3",
   "metadata": {
    "tags": []
   },
   "outputs": [
    {
     "data": {
      "text/plain": [
       "1.0"
      ]
     },
     "execution_count": 151,
     "metadata": {},
     "output_type": "execute_result"
    }
   ],
   "source": [
    "calculate_oks(pred_kpts[5], target_kpts[0], obj_polygons)"
   ]
  },
  {
   "cell_type": "code",
   "execution_count": 152,
   "id": "c1257703-6fd1-4a14-a2d2-ac917c1b94c9",
   "metadata": {
    "tags": []
   },
   "outputs": [
    {
     "data": {
      "text/plain": [
       "array([[13, 31, 78],\n",
       "       [40, 45,  5],\n",
       "       [64, 57, 33],\n",
       "       [66, 60, 92],\n",
       "       [15, 61, 41],\n",
       "       [83, 33, 54],\n",
       "       [73, 91, 24],\n",
       "       [26, 46, 85],\n",
       "       [87, 56, 51],\n",
       "       [85, 33, 57],\n",
       "       [48, 59, 14],\n",
       "       [82, 31, 18],\n",
       "       [67, 50, 48],\n",
       "       [81, 66,  5],\n",
       "       [30, 14, 10],\n",
       "       [ 0, 17, 59],\n",
       "       [78, 95, 25]])"
      ]
     },
     "execution_count": 152,
     "metadata": {},
     "output_type": "execute_result"
    }
   ],
   "source": [
    "pred_kpts[9]"
   ]
  },
  {
   "cell_type": "code",
   "execution_count": 153,
   "id": "89c4bd26-9ef6-4539-8be1-90a20d85d92c",
   "metadata": {
    "tags": []
   },
   "outputs": [
    {
     "data": {
      "text/plain": [
       "array([[13, 31, 78],\n",
       "       [40, 45,  5],\n",
       "       [64, 57, 33],\n",
       "       [66, 60, 92],\n",
       "       [15, 61, 41],\n",
       "       [83, 33, 54],\n",
       "       [73, 91, 24],\n",
       "       [26, 46, 85],\n",
       "       [87, 56, 51],\n",
       "       [85, 33, 57],\n",
       "       [48, 59, 14],\n",
       "       [82, 31, 18],\n",
       "       [67, 50, 48],\n",
       "       [81, 66,  5],\n",
       "       [30, 14, 10],\n",
       "       [ 0, 17, 59],\n",
       "       [78, 95, 25]])"
      ]
     },
     "execution_count": 153,
     "metadata": {},
     "output_type": "execute_result"
    }
   ],
   "source": [
    "target_kpts[2]"
   ]
  },
  {
   "cell_type": "code",
   "execution_count": null,
   "id": "513abdc4-d640-4866-8768-16e9f90cfd47",
   "metadata": {},
   "outputs": [],
   "source": []
  },
  {
   "cell_type": "code",
   "execution_count": null,
   "id": "82dcb4bc-9ca9-4a68-a1f2-5540eaeabf51",
   "metadata": {},
   "outputs": [],
   "source": []
  }
 ],
 "metadata": {
  "kernelspec": {
   "display_name": "Python 3 (ipykernel)",
   "language": "python",
   "name": "python3"
  },
  "language_info": {
   "codemirror_mode": {
    "name": "ipython",
    "version": 3
   },
   "file_extension": ".py",
   "mimetype": "text/x-python",
   "name": "python",
   "nbconvert_exporter": "python",
   "pygments_lexer": "ipython3",
   "version": "3.10.12"
  }
 },
 "nbformat": 4,
 "nbformat_minor": 5
}
